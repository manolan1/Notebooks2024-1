{
 "cells": [
  {
   "cell_type": "markdown",
   "metadata": {},
   "source": [
    "# Chapter 3: Program Flow Control (part 2 - Boolean Operators)\n",
    "\n",
    "## Boolean Review\n",
    "\n",
    "### Truth Value Testing\n",
    "\n",
    "- The Boolean constants\n",
    "  - `True`\n",
    "  - `False`\n",
    "- The following are `False`:\n",
    "  - Zero of any numeric type\n",
    "  - Any empty sequence, `''`, `()`, `[]`\n",
    "  - Any empty mapping , `{}`\n",
    "  - The keyword `None`\n",
    "  - The Boolean constant `False`\n",
    "- Everything else is `True`\n",
    "- The built-in function `bool()` returns `True` or `False` for any object passed in\n",
    "- All Boolean expressions uses short-circuit evaluation\n",
    "  - starting from the left, when the answer is known, stop evaluating\n",
    "\n"
   ]
  },
  {
   "cell_type": "code",
   "execution_count": null,
   "metadata": {},
   "outputs": [],
   "source": [
    "# All False\n",
    "print(bool(0.0))\n",
    "print(bool(''))\n",
    "print(bool({}))\n",
    "\n",
    "# All True\n",
    "print(bool(42.0))\n",
    "print(bool('a dragon'))\n",
    "print(bool({'name': \"value\"}))"
   ]
  },
  {
   "cell_type": "markdown",
   "metadata": {},
   "source": [
    "## Comparator Operators\n",
    "\n",
    "| Symbol | Meaning |\n",
    "|:-------|:--------|\n",
    "| `<`    | Less than |\n",
    "| `>`    | Greater than |\n",
    "| `<=`   | Less than or equal |\n",
    "| `>=`   | Greater than or equal |\n",
    "| `==`   | Value equality (simple equality) |\n",
    "| `!=`   | Value inequality (`<>` is deprecated) |\n",
    "| `is`   | Object identity, `a is b` is `True` if `a` and `b` refer to the same object; otherwise `False` |\n",
    "| `is not` | Object non-identity, `a is not b` is `True` if `a` and `b` do not refer to the same object, otherwise `False` |\n",
    "| `in`   | `a in b` is `True` if `a` is contained in `b`, otherwise `False` |\n",
    "| `not in` | `a not in b` is `True` if `a` is not contained in `b`; otherwise `False` |\n"
   ]
  },
  {
   "cell_type": "code",
   "execution_count": null,
   "metadata": {},
   "outputs": [],
   "source": [
    "y = 4\n",
    "z = 7"
   ]
  },
  {
   "cell_type": "code",
   "execution_count": null,
   "metadata": {},
   "outputs": [],
   "source": [
    "y < z + 5 # True"
   ]
  },
  {
   "cell_type": "code",
   "execution_count": null,
   "metadata": {},
   "outputs": [],
   "source": [
    "3 < y # True"
   ]
  },
  {
   "cell_type": "code",
   "execution_count": null,
   "metadata": {},
   "outputs": [],
   "source": [
    "y is z # False"
   ]
  },
  {
   "cell_type": "code",
   "execution_count": null,
   "metadata": {},
   "outputs": [],
   "source": [
    "'am a' in 'I am a hobbit' # True"
   ]
  },
  {
   "cell_type": "markdown",
   "metadata": {},
   "source": [
    "We have also met two other data types:\n",
    "- Tuple: `('Python', 3)`\n",
    "- Dictionary: `{ 'language': \"Python\", \"number\": 3 }`\n",
    "\n",
    "`in` works with both of these as well:\n",
    "- For a tuple, matches any value\n",
    "- For a dictionary, matches any key"
   ]
  },
  {
   "cell_type": "code",
   "execution_count": null,
   "metadata": {},
   "outputs": [],
   "source": [
    "a = ('Python', 3)\n",
    "b = { 'language': \"Python\", \"number\": 3 }"
   ]
  },
  {
   "cell_type": "code",
   "execution_count": null,
   "metadata": {},
   "outputs": [],
   "source": [
    "'Python' in a # True, one of the values"
   ]
  },
  {
   "cell_type": "code",
   "execution_count": null,
   "metadata": {},
   "outputs": [],
   "source": [
    "'Python' in b # False, not a key"
   ]
  },
  {
   "cell_type": "code",
   "execution_count": null,
   "metadata": {},
   "outputs": [],
   "source": [
    "'language' in b # True, one of the keys"
   ]
  },
  {
   "cell_type": "markdown",
   "metadata": {},
   "source": [
    "### A Word Of Caution Regarding `is`\n",
    "\n",
    "In our examples, we have used `is` with simple data types like `int` and `str`. While `is` will always return `False` when two objects are not identical, it may sometimes return `True` when objects are identical, but not the same object! "
   ]
  },
  {
   "cell_type": "code",
   "execution_count": null,
   "metadata": {},
   "outputs": [],
   "source": [
    "a1 = 'a'\n",
    "a2 = 'a'\n",
    "a1 is a2"
   ]
  },
  {
   "cell_type": "code",
   "execution_count": null,
   "metadata": {},
   "outputs": [],
   "source": [
    "b1 = 256\n",
    "b2 = 256\n",
    "b1 is b2"
   ]
  },
  {
   "cell_type": "code",
   "execution_count": null,
   "metadata": {},
   "outputs": [],
   "source": [
    "c1 = 257\n",
    "c2 = 257\n",
    "c1 is c2"
   ]
  },
  {
   "cell_type": "markdown",
   "metadata": {},
   "source": [
    "That's odd, right?\n",
    "\n",
    "What is happening here is that Python is applying some optimizations. There is a single instance of all integers between -5 and 256 and any variable that contains one of those values points to the same object as any other variable with the same value. This range was determined empirically and has changed over time.\n",
    "\n",
    "This process is known as `interning`.\n",
    "\n",
    "For `str`, the rules are more complex."
   ]
  },
  {
   "cell_type": "code",
   "execution_count": null,
   "metadata": {},
   "outputs": [],
   "source": [
    "d1 = 'Nowisthetime'\n",
    "d2 = 'Nowisthetime'\n",
    "d1 is d2"
   ]
  },
  {
   "cell_type": "code",
   "execution_count": null,
   "metadata": {},
   "outputs": [],
   "source": [
    "d3 = 'Now is the time'\n",
    "d4 = 'Now is the time'\n",
    "d3 is d4"
   ]
  },
  {
   "cell_type": "markdown",
   "metadata": {},
   "source": [
    "All these optimisations are implementation dependent: ***Do not rely on them***\n",
    "\n",
    "Fortunately, in real Python code, we rarely use `is` with these primitive data types."
   ]
  },
  {
   "cell_type": "markdown",
   "metadata": {},
   "source": [
    "### Boolean Operators\n",
    "\n",
    "| Operator | Meaning |\n",
    "|:---------|:--------|\n",
    "| `not`    | Boolean not; if `a` is `True`, `not a` is `False` |\n",
    "| `and`    | Boolean and; `True` if `a` and `b` are `True`; otherwise `False`; `b` is evaluated only if `a` is `True` |\n",
    "| `or`     | Boolean or; `True` if either `a` or  `b` are `True`; otherwise `False`; `b` is evaluated only if `a` is `False` |\n"
   ]
  },
  {
   "cell_type": "code",
   "execution_count": null,
   "metadata": {},
   "outputs": [],
   "source": [
    "3 < y and y < z + 5 # True since both conditions are True"
   ]
  },
  {
   "cell_type": "code",
   "execution_count": null,
   "metadata": {},
   "outputs": [],
   "source": [
    "3 < y < z + 5 # True, this time y is only evaluated once"
   ]
  },
  {
   "cell_type": "code",
   "execution_count": null,
   "metadata": {},
   "outputs": [],
   "source": [
    "not 3 < y < z + 5 # False, not covers the whole expression"
   ]
  },
  {
   "cell_type": "code",
   "execution_count": null,
   "metadata": {},
   "outputs": [],
   "source": [
    "not (3 < y < z + 5) "
   ]
  },
  {
   "cell_type": "markdown",
   "metadata": {},
   "source": [
    "# End of Notebook"
   ]
  }
 ],
 "metadata": {
  "kernelspec": {
   "display_name": "Python 3 (ipykernel)",
   "language": "python",
   "name": "python3"
  },
  "language_info": {
   "codemirror_mode": {
    "name": "ipython",
    "version": 3
   },
   "file_extension": ".py",
   "mimetype": "text/x-python",
   "name": "python",
   "nbconvert_exporter": "python",
   "pygments_lexer": "ipython3",
   "version": "3.8.19"
  }
 },
 "nbformat": 4,
 "nbformat_minor": 4
}
