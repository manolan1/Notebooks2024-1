{
 "cells": [
  {
   "cell_type": "markdown",
   "metadata": {},
   "source": [
    "# Chapter 3: Program Flow Control (part 1 - if, while)"
   ]
  },
  {
   "cell_type": "markdown",
   "metadata": {},
   "source": [
    "## Control Structure `if`\n",
    "\n",
    "```\n",
    "if test-expression:\n",
    "    suite \n",
    "elif test-expression:\n",
    "    suite\n",
    "else:\n",
    "    suite\n",
    "```\n",
    "\n",
    "- The `if` clause must be followed by a `test-expression` that returns `True` or `False`\n",
    "- The `test-expression` must be followed by a colon (`:`)\n",
    "- `suite` is a block of statements to be executed if `test-expression` evaluates to `True`\n",
    "  - If there is just a single statement, it can be on the same line after the colon\n",
    "  - If there is more than one statement, the `suite` must start on the next line and must be indented\n",
    "    - The indentation can be done with tabs, spaces, or a combination of tabs and spaces\n",
    "    - It must be consistent for all statements in the `suite`\n",
    "    - Make indentation uniform throughout your program\n",
    "\n",
    "- `elif` means else if \n",
    "  - The same rules as for the `if` clause\n",
    "    - Must be followed by a Boolean expression and then a colon (`:`)\n",
    "  - The `elif` clause is optional\n",
    "  - May be repeated as many times as wanted \n",
    "- The `else` clause is executed if all other `test-expression`s return `False`\n",
    "  - Must be followed by a colon (`:`)\n",
    "  - The `suite` to be executed for the `else` clause must be indented \n"
   ]
  },
  {
   "cell_type": "code",
   "execution_count": null,
   "metadata": {},
   "outputs": [],
   "source": [
    "a = int(input(\"First number: \"))\n",
    "b = int(input(\"Second number: \"))\n",
    "\n",
    "if a == b:\n",
    "    print(a, \"is equal to\", b)\n",
    "elif a < b:\n",
    "    print(a, \"is less than\", b)\n",
    "else:\n",
    "    print(a, \"is greater than\", b)"
   ]
  },
  {
   "cell_type": "code",
   "execution_count": null,
   "metadata": {},
   "outputs": [],
   "source": [
    "a = int(input(\"First number: \"))\n",
    "b = int(input(\"Second number: \"))\n",
    "\n",
    "if   a == b: print( a, \"is equal to\", b)\n",
    "elif a < b:  print( a, \"is less than\", b)\n",
    "else:        print( a, \"is greater than\", b)"
   ]
  },
  {
   "cell_type": "markdown",
   "metadata": {},
   "source": [
    "# Control Structure `while`\n",
    "\n",
    "### `while` Statement\n",
    "\n",
    "```\n",
    "while test-expression:\n",
    "    suite\n",
    "```\n",
    "\n",
    "While `test-expression` is `True`, execute `suite`"
   ]
  },
  {
   "cell_type": "code",
   "execution_count": null,
   "metadata": {
    "scrolled": true
   },
   "outputs": [],
   "source": [
    "count = 0\n",
    "\n",
    "while count < 10:\n",
    "    print(\"Count =\", count)\n",
    "    count = count + 1"
   ]
  },
  {
   "cell_type": "markdown",
   "metadata": {},
   "source": [
    "### `break` and `continue`"
   ]
  },
  {
   "cell_type": "code",
   "execution_count": null,
   "metadata": {},
   "outputs": [],
   "source": [
    "sum = 0\n",
    "\n",
    "while True:\n",
    "    value = input(\"Enter next number for sum or <cr> to exit: \")\n",
    "    if not value or not value.isdigit():\n",
    "        break\n",
    "    sum = sum + int(value)\n",
    "print(\"Sum =\", sum)"
   ]
  },
  {
   "cell_type": "markdown",
   "metadata": {},
   "source": [
    "The `break` statement causes execution to continue with the first statement outside the `while` clause."
   ]
  },
  {
   "cell_type": "code",
   "execution_count": null,
   "metadata": {},
   "outputs": [],
   "source": [
    "while True:\n",
    "    value = input(\"Enter number to test or <cr> to exit: \")\n",
    "    if not value or not value.isdigit():\n",
    "        break\n",
    "    if int(value) % 2 != 0:\n",
    "        continue\n",
    "    print(value, \"is even\")"
   ]
  },
  {
   "cell_type": "markdown",
   "metadata": {},
   "source": [
    "The `continue` statement skips the rest of the loop suite and resumes execution at the test of the next iteration."
   ]
  },
  {
   "cell_type": "markdown",
   "metadata": {},
   "source": [
    "# End of Notebook"
   ]
  }
 ],
 "metadata": {
  "kernelspec": {
   "display_name": "Python 3 (ipykernel)",
   "language": "python",
   "name": "python3"
  },
  "language_info": {
   "codemirror_mode": {
    "name": "ipython",
    "version": 3
   },
   "file_extension": ".py",
   "mimetype": "text/x-python",
   "name": "python",
   "nbconvert_exporter": "python",
   "pygments_lexer": "ipython3",
   "version": "3.8.19"
  }
 },
 "nbformat": 4,
 "nbformat_minor": 4
}
