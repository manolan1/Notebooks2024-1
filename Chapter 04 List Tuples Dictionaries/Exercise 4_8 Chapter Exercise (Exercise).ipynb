{
 "cells": [
  {
   "cell_type": "markdown",
   "metadata": {},
   "source": [
    "# Exercise 4.8: Chapter Exercise\n",
    "\n",
    "## Part I: Programming Exercises\n",
    "\n",
    "Build a script that asks for a key. If the key is the word `\"exit\"`, stop the script. If not, check to see if the key is in the dictionary. If the key is in the dictionary, return `\"key\" → \"value\"` where `key` and `value` are replaced with key and value from the dictionary. If the key is not found in the dictionary, ask for the value associated with the key or tap the Enter key to not add the key value pair."
   ]
  },
  {
   "cell_type": "code",
   "execution_count": null,
   "metadata": {},
   "outputs": [],
   "source": [
    "# Your solution"
   ]
  },
  {
   "cell_type": "markdown",
   "metadata": {},
   "source": [
    "## Part II: Debugging\n",
    "\n",
    "Read the scripts and fix."
   ]
  },
  {
   "cell_type": "markdown",
   "metadata": {},
   "source": [
    "### II.1 Exercise:"
   ]
  },
  {
   "cell_type": "code",
   "execution_count": null,
   "metadata": {},
   "outputs": [],
   "source": [
    "\"\"\"\n",
    "    Add 10 to each element of the list [ 5, 6, 7, 8, 9 ]\n",
    "\"\"\"\n",
    "q = range(5,10)\n",
    "\n",
    "print(\"q =\", q)\n",
    "\n",
    "k = [ q[i] + 10 for i in range(len(q) + 1) ]\n",
    "\n",
    "print(\"q =\", q)\n",
    "print(\"k =\", k)"
   ]
  },
  {
   "cell_type": "markdown",
   "metadata": {},
   "source": [
    "### II.1 Solution:"
   ]
  },
  {
   "cell_type": "code",
   "execution_count": null,
   "metadata": {},
   "outputs": [],
   "source": [
    "# Your solution here, or make changes above"
   ]
  },
  {
   "cell_type": "markdown",
   "metadata": {},
   "source": [
    "### II.2 Exercise:"
   ]
  },
  {
   "cell_type": "code",
   "execution_count": null,
   "metadata": {},
   "outputs": [],
   "source": [
    "\"\"\"\n",
    "    Sort the given array\n",
    "\"\"\"\n",
    "q = [ 'h', 'b', 'q', 'm', 'j' ]\n",
    "print(\"q =\", q)\n",
    "\n",
    "sorted(q)\n",
    "\n",
    "print(\"q =\", q)"
   ]
  },
  {
   "cell_type": "markdown",
   "metadata": {},
   "source": [
    "### II.2 Solution:"
   ]
  },
  {
   "cell_type": "code",
   "execution_count": null,
   "metadata": {},
   "outputs": [],
   "source": [
    "# Your solution here, or make changes above"
   ]
  },
  {
   "cell_type": "markdown",
   "metadata": {},
   "source": [
    "### II.3 Exercise"
   ]
  },
  {
   "cell_type": "code",
   "execution_count": null,
   "metadata": {},
   "outputs": [],
   "source": [
    "\"\"\"\n",
    "    reverse the matrix\n",
    "\"\"\"\n",
    "q = [ [ 1, 2, 3],\n",
    "      [ 4, 5, 6],\n",
    "      [ 7, 8, 9] ]\n",
    "\n",
    "[ q[i].reverse() for i in range(len(q)).reverse() ]\n",
    "#k = [ q[i].reverse() for i in range(len(q)).reverse() ]\n",
    "\n",
    "print(\"q =\", q)\n",
    "#print(\"k =\", k)"
   ]
  },
  {
   "cell_type": "markdown",
   "metadata": {},
   "source": [
    "### II.3 Solution"
   ]
  },
  {
   "cell_type": "code",
   "execution_count": null,
   "metadata": {},
   "outputs": [],
   "source": [
    "# Your solution here, or make changes above"
   ]
  },
  {
   "cell_type": "markdown",
   "metadata": {},
   "source": [
    "## Part III: If Time\n",
    "\n",
    "Extend the script in Part I to delete the key value if the key entered has an underscore as the first letter of the key. That is, if the key is `\"rabbit\"`, then `\"_rabbit\"` should delete the key or say that the key was not found."
   ]
  },
  {
   "cell_type": "code",
   "execution_count": 1,
   "metadata": {},
   "outputs": [],
   "source": [
    "# Your solution"
   ]
  },
  {
   "cell_type": "markdown",
   "metadata": {},
   "source": [
    "# End of Notebook"
   ]
  }
 ],
 "metadata": {
  "kernelspec": {
   "display_name": "Python 3 (ipykernel)",
   "language": "python",
   "name": "python3"
  },
  "language_info": {
   "codemirror_mode": {
    "name": "ipython",
    "version": 3
   },
   "file_extension": ".py",
   "mimetype": "text/x-python",
   "name": "python",
   "nbconvert_exporter": "python",
   "pygments_lexer": "ipython3",
   "version": "3.8.16"
  }
 },
 "nbformat": 4,
 "nbformat_minor": 2
}
